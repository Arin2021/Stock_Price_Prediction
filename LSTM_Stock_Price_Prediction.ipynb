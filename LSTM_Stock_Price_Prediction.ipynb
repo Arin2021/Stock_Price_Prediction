{
 "cells": [
  {
   "cell_type": "code",
   "execution_count": 38,
   "id": "4b3df97f",
   "metadata": {},
   "outputs": [],
   "source": [
    "### Data Loading from CSV\n",
    "import pandas as pd\n",
    "import numpy as np\n",
    "from sklearn.preprocessing import MinMaxScaler\n",
    "from tensorflow.keras.models import Sequential\n",
    "from tensorflow.keras.layers import Dense, LSTM\n",
    "import matplotlib.pyplot as plt\n",
    "from sklearn.metrics import mean_squared_error"
   ]
  },
  {
   "cell_type": "code",
   "execution_count": 85,
   "id": "06611924",
   "metadata": {},
   "outputs": [
    {
     "name": "stdout",
     "output_type": "stream",
     "text": [
      "0      2018-07-13\n",
      "1      2018-07-16\n",
      "2      2018-07-17\n",
      "3      2018-07-18\n",
      "4      2018-07-19\n",
      "          ...    \n",
      "1228   2023-07-06\n",
      "1229   2023-07-07\n",
      "1230   2023-07-10\n",
      "1231   2023-07-11\n",
      "1232   2023-07-12\n",
      "Name: Date, Length: 1233, dtype: datetime64[ns]\n"
     ]
    }
   ],
   "source": [
    "# Reading historical data from CSV\n",
    "df = pd.read_csv('C:\\\\Users\\\\arind\\\\OneDrive\\\\Desktop\\\\RELIANCE1.csv', parse_dates=['Date'])\n",
    "df = df[['Date', 'Close']]\n",
    "df.columns = ['Date', 'Close']\n",
    "print(df['Date'])"
   ]
  },
  {
   "cell_type": "code",
   "execution_count": 86,
   "id": "6538f15d",
   "metadata": {},
   "outputs": [],
   "source": [
    "# Scaling the data\n",
    "scaler = MinMaxScaler(feature_range=(0, 1))\n",
    "df[['Close']] = scaler.fit_transform(df[['Close']])\n",
    "\n",
    "# Splitting the dataset into train and test sets\n",
    "training_size = int(len(df) * 0.65)\n",
    "test_size = len(df) - training_size\n",
    "train_data, test_data = df.iloc[0:training_size], df.iloc[training_size:len(df)]"
   ]
  },
  {
   "cell_type": "code",
   "execution_count": 87,
   "id": "73fbcc30",
   "metadata": {},
   "outputs": [],
   "source": [
    "# Function to create supervised dataset\n",
    "def create_dataset(dataset, time_step=1):\n",
    "    dataX, dataY = [], []\n",
    "    for i in range(len(dataset) - time_step - 1):\n",
    "        a = dataset['Close'].values[i:(i + time_step)]\n",
    "        dataX.append(a)\n",
    "        dataY.append(dataset['Close'].values[i + time_step])\n",
    "    return np.array(dataX), np.array(dataY)"
   ]
  },
  {
   "cell_type": "code",
   "execution_count": 96,
   "id": "584fe7bc",
   "metadata": {},
   "outputs": [],
   "source": [
    "# Reshaping input data for LSTM\n",
    "time_step = 5\n",
    "X_train, y_train = create_dataset(train_data, time_step)\n",
    "X_test, y_test = create_dataset(test_data, time_step)"
   ]
  },
  {
   "cell_type": "code",
   "execution_count": 97,
   "id": "bdea04be",
   "metadata": {},
   "outputs": [],
   "source": [
    "# Reshaping input to be [samples, time steps, features] required for LSTM\n",
    "X_train = np.reshape(X_train, (X_train.shape[0], X_train.shape[1], 1))\n",
    "X_test = np.reshape(X_test, (X_test.shape[0], X_test.shape[1], 1))"
   ]
  },
  {
   "cell_type": "code",
   "execution_count": 98,
   "id": "ba054733",
   "metadata": {},
   "outputs": [],
   "source": [
    "# Creating the LSTM model\n",
    "model = Sequential()\n",
    "model.add(LSTM(50, return_sequences=True, input_shape=(time_step, 1)))\n",
    "model.add(LSTM(50, return_sequences=True))\n",
    "model.add(LSTM(50))\n",
    "model.add(Dense(1))\n",
    "model.compile(loss='mean_squared_error', optimizer='adam')"
   ]
  },
  {
   "cell_type": "code",
   "execution_count": 99,
   "id": "50641f84",
   "metadata": {},
   "outputs": [
    {
     "name": "stdout",
     "output_type": "stream",
     "text": [
      "Epoch 1/100\n",
      "13/13 [==============================] - 16s 258ms/step - loss: 0.1283 - val_loss: 0.1767\n",
      "Epoch 2/100\n",
      "13/13 [==============================] - 0s 30ms/step - loss: 0.0265 - val_loss: 0.0472\n",
      "Epoch 3/100\n",
      "13/13 [==============================] - 0s 30ms/step - loss: 0.0154 - val_loss: 0.0144\n",
      "Epoch 4/100\n",
      "13/13 [==============================] - 0s 28ms/step - loss: 0.0061 - val_loss: 0.0045\n",
      "Epoch 5/100\n",
      "13/13 [==============================] - 0s 31ms/step - loss: 0.0016 - val_loss: 0.0070\n",
      "Epoch 6/100\n",
      "13/13 [==============================] - 0s 29ms/step - loss: 0.0013 - val_loss: 0.0087\n",
      "Epoch 7/100\n",
      "13/13 [==============================] - 0s 29ms/step - loss: 0.0011 - val_loss: 0.0054\n",
      "Epoch 8/100\n",
      "13/13 [==============================] - 0s 30ms/step - loss: 0.0011 - val_loss: 0.0032\n",
      "Epoch 9/100\n",
      "13/13 [==============================] - 0s 29ms/step - loss: 0.0010 - val_loss: 0.0027\n",
      "Epoch 10/100\n",
      "13/13 [==============================] - 0s 29ms/step - loss: 0.0011 - val_loss: 0.0031\n",
      "Epoch 11/100\n",
      "13/13 [==============================] - 0s 30ms/step - loss: 0.0010 - val_loss: 0.0043\n",
      "Epoch 12/100\n",
      "13/13 [==============================] - 0s 29ms/step - loss: 9.9363e-04 - val_loss: 0.0042\n",
      "Epoch 13/100\n",
      "13/13 [==============================] - 0s 29ms/step - loss: 0.0010 - val_loss: 0.0049\n",
      "Epoch 14/100\n",
      "13/13 [==============================] - 0s 29ms/step - loss: 0.0010 - val_loss: 0.0025\n",
      "Epoch 15/100\n",
      "13/13 [==============================] - 0s 30ms/step - loss: 9.7339e-04 - val_loss: 0.0022\n",
      "Epoch 16/100\n",
      "13/13 [==============================] - 0s 30ms/step - loss: 9.6937e-04 - val_loss: 0.0030\n",
      "Epoch 17/100\n",
      "13/13 [==============================] - 0s 28ms/step - loss: 9.4509e-04 - val_loss: 0.0023\n",
      "Epoch 18/100\n",
      "13/13 [==============================] - 0s 30ms/step - loss: 9.5017e-04 - val_loss: 0.0019\n",
      "Epoch 19/100\n",
      "13/13 [==============================] - 0s 30ms/step - loss: 9.3595e-04 - val_loss: 0.0028\n",
      "Epoch 20/100\n",
      "13/13 [==============================] - 0s 30ms/step - loss: 9.7016e-04 - val_loss: 0.0023\n",
      "Epoch 21/100\n",
      "13/13 [==============================] - 0s 30ms/step - loss: 9.8979e-04 - val_loss: 0.0014\n",
      "Epoch 22/100\n",
      "13/13 [==============================] - 0s 28ms/step - loss: 9.5231e-04 - val_loss: 0.0019\n",
      "Epoch 23/100\n",
      "13/13 [==============================] - 0s 30ms/step - loss: 9.7234e-04 - val_loss: 0.0016\n",
      "Epoch 24/100\n",
      "13/13 [==============================] - 0s 30ms/step - loss: 9.4957e-04 - val_loss: 0.0014\n",
      "Epoch 25/100\n",
      "13/13 [==============================] - 0s 28ms/step - loss: 9.3234e-04 - val_loss: 0.0019\n",
      "Epoch 26/100\n",
      "13/13 [==============================] - 0s 29ms/step - loss: 9.1172e-04 - val_loss: 0.0018\n",
      "Epoch 27/100\n",
      "13/13 [==============================] - 0s 30ms/step - loss: 9.0781e-04 - val_loss: 0.0020\n",
      "Epoch 28/100\n",
      "13/13 [==============================] - 0s 29ms/step - loss: 9.3946e-04 - val_loss: 0.0016\n",
      "Epoch 29/100\n",
      "13/13 [==============================] - 0s 30ms/step - loss: 9.0905e-04 - val_loss: 0.0013\n",
      "Epoch 30/100\n",
      "13/13 [==============================] - 0s 28ms/step - loss: 9.4884e-04 - val_loss: 0.0022\n",
      "Epoch 31/100\n",
      "13/13 [==============================] - 0s 29ms/step - loss: 9.7996e-04 - val_loss: 0.0026\n",
      "Epoch 32/100\n",
      "13/13 [==============================] - 0s 30ms/step - loss: 0.0010 - val_loss: 0.0021\n",
      "Epoch 33/100\n",
      "13/13 [==============================] - 0s 29ms/step - loss: 9.1902e-04 - val_loss: 0.0013\n",
      "Epoch 34/100\n",
      "13/13 [==============================] - 0s 30ms/step - loss: 9.3285e-04 - val_loss: 0.0014\n",
      "Epoch 35/100\n",
      "13/13 [==============================] - 0s 30ms/step - loss: 8.9539e-04 - val_loss: 0.0013\n",
      "Epoch 36/100\n",
      "13/13 [==============================] - 0s 30ms/step - loss: 8.9655e-04 - val_loss: 0.0020\n",
      "Epoch 37/100\n",
      "13/13 [==============================] - 0s 28ms/step - loss: 9.2571e-04 - val_loss: 0.0015\n",
      "Epoch 38/100\n",
      "13/13 [==============================] - 0s 30ms/step - loss: 9.0272e-04 - val_loss: 0.0015\n",
      "Epoch 39/100\n",
      "13/13 [==============================] - 0s 32ms/step - loss: 8.9572e-04 - val_loss: 0.0013\n",
      "Epoch 40/100\n",
      "13/13 [==============================] - 0s 30ms/step - loss: 9.3055e-04 - val_loss: 0.0013\n",
      "Epoch 41/100\n",
      "13/13 [==============================] - 0s 30ms/step - loss: 9.7587e-04 - val_loss: 0.0020\n",
      "Epoch 42/100\n",
      "13/13 [==============================] - 0s 29ms/step - loss: 9.9387e-04 - val_loss: 0.0013\n",
      "Epoch 43/100\n",
      "13/13 [==============================] - 0s 29ms/step - loss: 9.0821e-04 - val_loss: 0.0013\n",
      "Epoch 44/100\n",
      "13/13 [==============================] - 0s 29ms/step - loss: 9.1436e-04 - val_loss: 0.0014\n",
      "Epoch 45/100\n",
      "13/13 [==============================] - 0s 30ms/step - loss: 9.0860e-04 - val_loss: 0.0015\n",
      "Epoch 46/100\n",
      "13/13 [==============================] - 0s 28ms/step - loss: 9.6806e-04 - val_loss: 0.0013\n",
      "Epoch 47/100\n",
      "13/13 [==============================] - 0s 28ms/step - loss: 9.0278e-04 - val_loss: 0.0019\n",
      "Epoch 48/100\n",
      "13/13 [==============================] - 0s 29ms/step - loss: 9.3234e-04 - val_loss: 0.0013\n",
      "Epoch 49/100\n",
      "13/13 [==============================] - 0s 29ms/step - loss: 9.2300e-04 - val_loss: 0.0012\n",
      "Epoch 50/100\n",
      "13/13 [==============================] - 0s 30ms/step - loss: 9.5319e-04 - val_loss: 0.0022\n",
      "Epoch 51/100\n",
      "13/13 [==============================] - 0s 30ms/step - loss: 9.3498e-04 - val_loss: 0.0012\n",
      "Epoch 52/100\n",
      "13/13 [==============================] - 0s 29ms/step - loss: 9.4220e-04 - val_loss: 0.0012\n",
      "Epoch 53/100\n",
      "13/13 [==============================] - 0s 30ms/step - loss: 9.0666e-04 - val_loss: 0.0012\n",
      "Epoch 54/100\n",
      "13/13 [==============================] - 0s 29ms/step - loss: 8.9853e-04 - val_loss: 0.0012\n",
      "Epoch 55/100\n",
      "13/13 [==============================] - 0s 29ms/step - loss: 8.7652e-04 - val_loss: 0.0012\n",
      "Epoch 56/100\n",
      "13/13 [==============================] - 0s 30ms/step - loss: 8.9046e-04 - val_loss: 0.0015\n",
      "Epoch 57/100\n",
      "13/13 [==============================] - 0s 29ms/step - loss: 8.8104e-04 - val_loss: 0.0018\n",
      "Epoch 58/100\n",
      "13/13 [==============================] - 0s 31ms/step - loss: 8.8995e-04 - val_loss: 0.0012\n",
      "Epoch 59/100\n",
      "13/13 [==============================] - 0s 29ms/step - loss: 8.6872e-04 - val_loss: 0.0012\n",
      "Epoch 60/100\n",
      "13/13 [==============================] - 0s 30ms/step - loss: 8.6916e-04 - val_loss: 0.0012\n",
      "Epoch 61/100\n",
      "13/13 [==============================] - 0s 29ms/step - loss: 8.6353e-04 - val_loss: 0.0014\n",
      "Epoch 62/100\n",
      "13/13 [==============================] - 0s 28ms/step - loss: 8.6345e-04 - val_loss: 0.0014\n",
      "Epoch 63/100\n",
      "13/13 [==============================] - 0s 30ms/step - loss: 8.9249e-04 - val_loss: 0.0013\n",
      "Epoch 64/100\n",
      "13/13 [==============================] - 0s 30ms/step - loss: 9.0072e-04 - val_loss: 0.0012\n",
      "Epoch 65/100\n",
      "13/13 [==============================] - 0s 29ms/step - loss: 8.7490e-04 - val_loss: 0.0013\n",
      "Epoch 66/100\n",
      "13/13 [==============================] - 0s 31ms/step - loss: 8.5673e-04 - val_loss: 0.0012\n",
      "Epoch 67/100\n",
      "13/13 [==============================] - 0s 29ms/step - loss: 8.5462e-04 - val_loss: 0.0014\n",
      "Epoch 68/100\n",
      "13/13 [==============================] - 0s 31ms/step - loss: 8.9450e-04 - val_loss: 0.0017\n",
      "Epoch 69/100\n",
      "13/13 [==============================] - 0s 29ms/step - loss: 9.0523e-04 - val_loss: 0.0013\n",
      "Epoch 70/100\n",
      "13/13 [==============================] - 0s 31ms/step - loss: 9.3098e-04 - val_loss: 0.0026\n",
      "Epoch 71/100\n",
      "13/13 [==============================] - 0s 29ms/step - loss: 9.5264e-04 - val_loss: 0.0014\n",
      "Epoch 72/100\n",
      "13/13 [==============================] - 0s 28ms/step - loss: 8.9764e-04 - val_loss: 0.0014\n",
      "Epoch 73/100\n",
      "13/13 [==============================] - 0s 30ms/step - loss: 8.5308e-04 - val_loss: 0.0012\n",
      "Epoch 74/100\n",
      "13/13 [==============================] - 0s 30ms/step - loss: 8.5904e-04 - val_loss: 0.0016\n",
      "Epoch 75/100\n",
      "13/13 [==============================] - 0s 29ms/step - loss: 8.6082e-04 - val_loss: 0.0014\n",
      "Epoch 76/100\n",
      "13/13 [==============================] - 0s 28ms/step - loss: 8.5216e-04 - val_loss: 0.0012\n",
      "Epoch 77/100\n",
      "13/13 [==============================] - 0s 29ms/step - loss: 8.6369e-04 - val_loss: 0.0013\n",
      "Epoch 78/100\n",
      "13/13 [==============================] - 0s 30ms/step - loss: 8.4680e-04 - val_loss: 0.0014\n",
      "Epoch 79/100\n",
      "13/13 [==============================] - 0s 29ms/step - loss: 8.6812e-04 - val_loss: 0.0013\n",
      "Epoch 80/100\n",
      "13/13 [==============================] - 0s 31ms/step - loss: 9.0259e-04 - val_loss: 0.0014\n",
      "Epoch 81/100\n",
      "13/13 [==============================] - 0s 30ms/step - loss: 8.5582e-04 - val_loss: 0.0013\n",
      "Epoch 82/100\n",
      "13/13 [==============================] - 0s 30ms/step - loss: 8.3618e-04 - val_loss: 0.0013\n",
      "Epoch 83/100\n",
      "13/13 [==============================] - 0s 29ms/step - loss: 8.5519e-04 - val_loss: 0.0013\n",
      "Epoch 84/100\n",
      "13/13 [==============================] - 0s 31ms/step - loss: 8.7264e-04 - val_loss: 0.0014\n",
      "Epoch 85/100\n",
      "13/13 [==============================] - 0s 29ms/step - loss: 8.3405e-04 - val_loss: 0.0013\n",
      "Epoch 86/100\n",
      "13/13 [==============================] - 0s 28ms/step - loss: 8.3306e-04 - val_loss: 0.0012\n",
      "Epoch 87/100\n",
      "13/13 [==============================] - 0s 30ms/step - loss: 8.8727e-04 - val_loss: 0.0013\n",
      "Epoch 88/100\n",
      "13/13 [==============================] - 0s 28ms/step - loss: 9.2345e-04 - val_loss: 0.0013\n",
      "Epoch 89/100\n",
      "13/13 [==============================] - 0s 30ms/step - loss: 9.0260e-04 - val_loss: 0.0011\n",
      "Epoch 90/100\n",
      "13/13 [==============================] - 0s 30ms/step - loss: 8.6398e-04 - val_loss: 0.0016\n",
      "Epoch 91/100\n",
      "13/13 [==============================] - 0s 29ms/step - loss: 8.5838e-04 - val_loss: 0.0013\n",
      "Epoch 92/100\n",
      "13/13 [==============================] - 0s 31ms/step - loss: 8.1853e-04 - val_loss: 0.0023\n",
      "Epoch 93/100\n",
      "13/13 [==============================] - 0s 29ms/step - loss: 8.8370e-04 - val_loss: 0.0018\n",
      "Epoch 94/100\n",
      "13/13 [==============================] - 0s 30ms/step - loss: 9.8405e-04 - val_loss: 0.0026\n",
      "Epoch 95/100\n",
      "13/13 [==============================] - 0s 31ms/step - loss: 9.5216e-04 - val_loss: 0.0012\n",
      "Epoch 96/100\n",
      "13/13 [==============================] - 0s 30ms/step - loss: 8.2200e-04 - val_loss: 0.0012\n",
      "Epoch 97/100\n",
      "13/13 [==============================] - 0s 30ms/step - loss: 8.1113e-04 - val_loss: 0.0011\n",
      "Epoch 98/100\n",
      "13/13 [==============================] - 0s 32ms/step - loss: 8.0342e-04 - val_loss: 0.0012\n",
      "Epoch 99/100\n",
      "13/13 [==============================] - 0s 30ms/step - loss: 7.9365e-04 - val_loss: 0.0016\n",
      "Epoch 100/100\n",
      "13/13 [==============================] - 0s 31ms/step - loss: 8.0609e-04 - val_loss: 0.0013\n"
     ]
    },
    {
     "data": {
      "text/plain": [
       "<keras.src.callbacks.History at 0x1b29bb20310>"
      ]
     },
     "execution_count": 99,
     "metadata": {},
     "output_type": "execute_result"
    }
   ],
   "source": [
    "# Training the model\n",
    "model.fit(X_train, y_train, validation_data=(X_test, y_test), epochs=100, batch_size=64, verbose=1)"
   ]
  },
  {
   "cell_type": "code",
   "execution_count": 100,
   "id": "0c7e98a3",
   "metadata": {},
   "outputs": [
    {
     "name": "stdout",
     "output_type": "stream",
     "text": [
      "25/25 [==============================] - 3s 7ms/step\n",
      "14/14 [==============================] - 0s 5ms/step\n"
     ]
    }
   ],
   "source": [
    "# Predicting on training and testing data\n",
    "train_predict = model.predict(X_train)\n",
    "test_predict = model.predict(X_test)"
   ]
  },
  {
   "cell_type": "code",
   "execution_count": 101,
   "id": "216d943c",
   "metadata": {},
   "outputs": [],
   "source": [
    "# Inverse transforming predictions\n",
    "train_predict = scaler.inverse_transform(train_predict)\n",
    "y_train = scaler.inverse_transform([y_train])\n",
    "test_predict = scaler.inverse_transform(test_predict)\n",
    "y_test = scaler.inverse_transform([y_test])"
   ]
  },
  {
   "cell_type": "code",
   "execution_count": 102,
   "id": "fbcaf898",
   "metadata": {},
   "outputs": [],
   "source": [
    "# Calculating RMSE performance metrics\n",
    "train_rmse = np.sqrt(mean_squared_error(y_train[0], train_predict[:, 0]))\n",
    "test_rmse = np.sqrt(mean_squared_error(y_test[0], test_predict[:, 0]))"
   ]
  },
  {
   "cell_type": "code",
   "execution_count": 103,
   "id": "44d950cb",
   "metadata": {},
   "outputs": [
    {
     "data": {
      "image/png": "[encoded data removed]",
      "text/plain": [
       "<Figure size 1200x800 with 1 Axes>"
      ]
     },
     "metadata": {},
     "output_type": "display_data"
    }
   ],
   "source": [
    "# Plotting the results\n",
    "plt.figure(figsize=(12, 8))\n",
    "plt.title('Stock Price Analysis (Currency: INR)')\n",
    "plt.plot(df['Date'], df['Close'], color='blue', label='Closing Price')\n",
    "plt.legend()\n",
    "plt.show()"
   ]
  },
  {
   "cell_type": "code",
   "execution_count": null,
   "id": "d4c00cbe",
   "metadata": {},
   "outputs": [],
   "source": []
  }
 ],
 "metadata": {
  "kernelspec": {
   "display_name": "Python 3 (ipykernel)",
   "language": "python",
   "name": "python3"
  },
  "language_info": {
   "codemirror_mode": {
    "name": "ipython",
    "version": 3
   },
   "file_extension": ".py",
   "mimetype": "text/x-python",
   "name": "python",
   "nbconvert_exporter": "python",
   "pygments_lexer": "ipython3",
   "version": "3.11.3"
  }
 },
 "nbformat": 4,
 "nbformat_minor": 5
}
