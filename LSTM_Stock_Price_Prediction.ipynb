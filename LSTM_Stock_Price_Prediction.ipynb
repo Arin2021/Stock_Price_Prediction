{
 "cells": [
  {
   "cell_type": "code",
   "execution_count": 2,
   "id": "4b3df97f",
   "metadata": {},
   "outputs": [],
   "source": [
    "import pandas as pd\n",
    "import numpy as np\n",
    "from sklearn.preprocessing import MinMaxScaler\n",
    "from tensorflow.keras.models import Sequential\n",
    "from tensorflow.keras.layers import Dense, LSTM\n",
    "import matplotlib.pyplot as plt\n",
    "from sklearn.metrics import mean_squared_error\n",
    "from matplotlib.ticker import FuncFormatter"
   ]
  },
  {
   "cell_type": "code",
   "execution_count": 3,
   "id": "06611924",
   "metadata": {},
   "outputs": [
    {
     "name": "stdout",
     "output_type": "stream",
     "text": [
      "0      2018-07-13\n",
      "1      2018-07-16\n",
      "2      2018-07-17\n",
      "3      2018-07-18\n",
      "4      2018-07-19\n",
      "          ...    \n",
      "1228   2023-07-06\n",
      "1229   2023-07-07\n",
      "1230   2023-07-10\n",
      "1231   2023-07-11\n",
      "1232   2023-07-12\n",
      "Name: Date, Length: 1233, dtype: datetime64[ns]\n"
     ]
    }
   ],
   "source": [
    "# Reading historical data from CSV\n",
    "df = pd.read_csv('C:\\\\Users\\\\arind\\\\OneDrive\\\\Desktop\\\\RELIANCE1.csv', parse_dates=['Date'])\n",
    "df = df[['Date', 'Close']]\n",
    "df.columns = ['Date', 'Close']\n",
    "print(df['Date'])"
   ]
  },
  {
   "cell_type": "code",
   "execution_count": 4,
   "id": "6538f15d",
   "metadata": {},
   "outputs": [],
   "source": [
    "# Scaling the data\n",
    "scaler = MinMaxScaler(feature_range=(0, 1))\n",
    "df[['Close']] = scaler.fit_transform(df[['Close']])\n",
    "\n",
    "# Splitting the dataset into train and test sets\n",
    "training_size = int(len(df) * 0.65)\n",
    "test_size = len(df) - training_size\n",
    "train_data, test_data = df.iloc[0:training_size], df.iloc[training_size:len(df)]"
   ]
  },
  {
   "cell_type": "code",
   "execution_count": 5,
   "id": "73fbcc30",
   "metadata": {},
   "outputs": [],
   "source": [
    "# Function to create supervised dataset\n",
    "def create_dataset(dataset, time_step=1):\n",
    "    dataX, dataY = [], []\n",
    "    for i in range(len(dataset) - time_step - 1):\n",
    "        a = dataset['Close'].values[i:(i + time_step)]\n",
    "        dataX.append(a)\n",
    "        dataY.append(dataset['Close'].values[i + time_step])\n",
    "    return np.array(dataX), np.array(dataY)"
   ]
  },
  {
   "cell_type": "code",
   "execution_count": 6,
   "id": "584fe7bc",
   "metadata": {},
   "outputs": [],
   "source": [
    "# Reshaping input data for LSTM\n",
    "time_step = 5\n",
    "X_train, y_train = create_dataset(train_data, time_step)\n",
    "X_test, y_test = create_dataset(test_data, time_step)"
   ]
  },
  {
   "cell_type": "code",
   "execution_count": 7,
   "id": "bdea04be",
   "metadata": {},
   "outputs": [],
   "source": [
    "# Reshaping input to be [samples, time steps, features] required for LSTM\n",
    "X_train = np.reshape(X_train, (X_train.shape[0], X_train.shape[1], 1))\n",
    "X_test = np.reshape(X_test, (X_test.shape[0], X_test.shape[1], 1))"
   ]
  },
  {
   "cell_type": "code",
   "execution_count": 8,
   "id": "ba054733",
   "metadata": {},
   "outputs": [],
   "source": [
    "# Creating the LSTM model\n",
    "model = Sequential()\n",
    "model.add(LSTM(50, return_sequences=True, input_shape=(time_step, 1)))\n",
    "model.add(LSTM(50, return_sequences=True))\n",
    "model.add(LSTM(50))\n",
    "model.add(Dense(1))\n",
    "model.compile(loss='mean_squared_error', optimizer='adam')"
   ]
  },
  {
   "cell_type": "code",
   "execution_count": 9,
   "id": "50641f84",
   "metadata": {},
   "outputs": [
    {
     "name": "stdout",
     "output_type": "stream",
     "text": [
      "Epoch 1/100\n",
      "13/13 [==============================] - 15s 251ms/step - loss: 0.1197 - val_loss: 0.1289\n",
      "Epoch 2/100\n",
      "13/13 [==============================] - 0s 31ms/step - loss: 0.0252 - val_loss: 0.0504\n",
      "Epoch 3/100\n",
      "13/13 [==============================] - 0s 31ms/step - loss: 0.0133 - val_loss: 0.0144\n",
      "Epoch 4/100\n",
      "13/13 [==============================] - 0s 32ms/step - loss: 0.0051 - val_loss: 0.0029\n",
      "Epoch 5/100\n",
      "13/13 [==============================] - 0s 31ms/step - loss: 0.0015 - val_loss: 0.0086\n",
      "Epoch 6/100\n",
      "13/13 [==============================] - 0s 31ms/step - loss: 0.0012 - val_loss: 0.0104\n",
      "Epoch 7/100\n",
      "13/13 [==============================] - 0s 31ms/step - loss: 0.0011 - val_loss: 0.0047\n",
      "Epoch 8/100\n",
      "13/13 [==============================] - 0s 30ms/step - loss: 0.0011 - val_loss: 0.0029\n",
      "Epoch 9/100\n",
      "13/13 [==============================] - 0s 31ms/step - loss: 0.0011 - val_loss: 0.0024\n",
      "Epoch 10/100\n",
      "13/13 [==============================] - 0s 29ms/step - loss: 0.0010 - val_loss: 0.0025\n",
      "Epoch 11/100\n",
      "13/13 [==============================] - 0s 30ms/step - loss: 0.0010 - val_loss: 0.0028\n",
      "Epoch 12/100\n",
      "13/13 [==============================] - 0s 30ms/step - loss: 0.0010 - val_loss: 0.0038\n",
      "Epoch 13/100\n",
      "13/13 [==============================] - 0s 31ms/step - loss: 0.0010 - val_loss: 0.0032\n",
      "Epoch 14/100\n",
      "13/13 [==============================] - 0s 30ms/step - loss: 9.7670e-04 - val_loss: 0.0036\n",
      "Epoch 15/100\n",
      "13/13 [==============================] - 0s 30ms/step - loss: 9.8379e-04 - val_loss: 0.0032\n",
      "Epoch 16/100\n",
      "13/13 [==============================] - 0s 30ms/step - loss: 9.5793e-04 - val_loss: 0.0027\n",
      "Epoch 17/100\n",
      "13/13 [==============================] - 0s 30ms/step - loss: 9.5273e-04 - val_loss: 0.0033\n",
      "Epoch 18/100\n",
      "13/13 [==============================] - 0s 32ms/step - loss: 9.4668e-04 - val_loss: 0.0019\n",
      "Epoch 19/100\n",
      "13/13 [==============================] - 0s 31ms/step - loss: 9.5462e-04 - val_loss: 0.0018\n",
      "Epoch 20/100\n",
      "13/13 [==============================] - 0s 31ms/step - loss: 9.2973e-04 - val_loss: 0.0022\n",
      "Epoch 21/100\n",
      "13/13 [==============================] - 0s 31ms/step - loss: 9.5285e-04 - val_loss: 0.0024\n",
      "Epoch 22/100\n",
      "13/13 [==============================] - 0s 13ms/step - loss: 9.4796e-04 - val_loss: 0.0017\n",
      "Epoch 23/100\n",
      "13/13 [==============================] - 0s 12ms/step - loss: 9.3545e-04 - val_loss: 0.0018\n",
      "Epoch 24/100\n",
      "13/13 [==============================] - 0s 12ms/step - loss: 9.1175e-04 - val_loss: 0.0019\n",
      "Epoch 25/100\n",
      "13/13 [==============================] - 0s 13ms/step - loss: 9.2814e-04 - val_loss: 0.0013\n",
      "Epoch 26/100\n",
      "13/13 [==============================] - 0s 14ms/step - loss: 9.4257e-04 - val_loss: 0.0018\n",
      "Epoch 27/100\n",
      "13/13 [==============================] - 0s 16ms/step - loss: 9.2311e-04 - val_loss: 0.0018\n",
      "Epoch 28/100\n",
      "13/13 [==============================] - 0s 10ms/step - loss: 9.4663e-04 - val_loss: 0.0015\n",
      "Epoch 29/100\n",
      "13/13 [==============================] - 0s 11ms/step - loss: 9.3594e-04 - val_loss: 0.0014\n",
      "Epoch 30/100\n",
      "13/13 [==============================] - 0s 13ms/step - loss: 9.4743e-04 - val_loss: 0.0013\n",
      "Epoch 31/100\n",
      "13/13 [==============================] - 0s 11ms/step - loss: 9.7573e-04 - val_loss: 0.0020\n",
      "Epoch 32/100\n",
      "13/13 [==============================] - 0s 11ms/step - loss: 9.9074e-04 - val_loss: 0.0018\n",
      "Epoch 33/100\n",
      "13/13 [==============================] - 0s 12ms/step - loss: 9.0628e-04 - val_loss: 0.0019\n",
      "Epoch 34/100\n",
      "13/13 [==============================] - 0s 11ms/step - loss: 9.0059e-04 - val_loss: 0.0013\n",
      "Epoch 35/100\n",
      "13/13 [==============================] - 0s 11ms/step - loss: 9.0280e-04 - val_loss: 0.0014\n",
      "Epoch 36/100\n",
      "13/13 [==============================] - 0s 13ms/step - loss: 9.0916e-04 - val_loss: 0.0015\n",
      "Epoch 37/100\n",
      "13/13 [==============================] - 0s 11ms/step - loss: 9.1396e-04 - val_loss: 0.0018\n",
      "Epoch 38/100\n",
      "13/13 [==============================] - 0s 11ms/step - loss: 9.0025e-04 - val_loss: 0.0015\n",
      "Epoch 39/100\n",
      "13/13 [==============================] - 0s 11ms/step - loss: 8.9779e-04 - val_loss: 0.0014\n",
      "Epoch 40/100\n",
      "13/13 [==============================] - 0s 12ms/step - loss: 9.0593e-04 - val_loss: 0.0014\n",
      "Epoch 41/100\n",
      "13/13 [==============================] - 0s 11ms/step - loss: 9.0891e-04 - val_loss: 0.0013\n",
      "Epoch 42/100\n",
      "13/13 [==============================] - 0s 12ms/step - loss: 9.0337e-04 - val_loss: 0.0013\n",
      "Epoch 43/100\n",
      "13/13 [==============================] - 0s 12ms/step - loss: 9.4172e-04 - val_loss: 0.0019\n",
      "Epoch 44/100\n",
      "13/13 [==============================] - 0s 13ms/step - loss: 9.2218e-04 - val_loss: 0.0016\n",
      "Epoch 45/100\n",
      "13/13 [==============================] - 0s 11ms/step - loss: 8.8861e-04 - val_loss: 0.0013\n",
      "Epoch 46/100\n",
      "13/13 [==============================] - 0s 11ms/step - loss: 8.8748e-04 - val_loss: 0.0014\n",
      "Epoch 47/100\n",
      "13/13 [==============================] - 0s 11ms/step - loss: 8.9061e-04 - val_loss: 0.0013\n",
      "Epoch 48/100\n",
      "13/13 [==============================] - 0s 10ms/step - loss: 8.9832e-04 - val_loss: 0.0012\n",
      "Epoch 49/100\n",
      "13/13 [==============================] - 0s 13ms/step - loss: 9.2040e-04 - val_loss: 0.0013\n",
      "Epoch 50/100\n",
      "13/13 [==============================] - 0s 13ms/step - loss: 9.1581e-04 - val_loss: 0.0012\n",
      "Epoch 51/100\n",
      "13/13 [==============================] - 0s 13ms/step - loss: 0.0010 - val_loss: 0.0013\n",
      "Epoch 52/100\n",
      "13/13 [==============================] - 0s 13ms/step - loss: 0.0011 - val_loss: 0.0025\n",
      "Epoch 53/100\n",
      "13/13 [==============================] - 0s 11ms/step - loss: 9.5180e-04 - val_loss: 0.0015\n",
      "Epoch 54/100\n",
      "13/13 [==============================] - 0s 12ms/step - loss: 9.8989e-04 - val_loss: 0.0015\n",
      "Epoch 55/100\n",
      "13/13 [==============================] - 0s 11ms/step - loss: 9.4875e-04 - val_loss: 0.0014\n",
      "Epoch 56/100\n",
      "13/13 [==============================] - 0s 11ms/step - loss: 8.8783e-04 - val_loss: 0.0013\n",
      "Epoch 57/100\n",
      "13/13 [==============================] - 0s 11ms/step - loss: 8.8025e-04 - val_loss: 0.0012\n",
      "Epoch 58/100\n",
      "13/13 [==============================] - 0s 11ms/step - loss: 8.8490e-04 - val_loss: 0.0013\n",
      "Epoch 59/100\n",
      "13/13 [==============================] - 0s 12ms/step - loss: 8.9960e-04 - val_loss: 0.0015\n",
      "Epoch 60/100\n",
      "13/13 [==============================] - 0s 11ms/step - loss: 8.8723e-04 - val_loss: 0.0013\n",
      "Epoch 61/100\n",
      "13/13 [==============================] - 0s 11ms/step - loss: 8.7758e-04 - val_loss: 0.0012\n",
      "Epoch 62/100\n",
      "13/13 [==============================] - 0s 12ms/step - loss: 8.7490e-04 - val_loss: 0.0015\n",
      "Epoch 63/100\n",
      "13/13 [==============================] - 0s 11ms/step - loss: 8.9120e-04 - val_loss: 0.0013\n",
      "Epoch 64/100\n",
      "13/13 [==============================] - 0s 12ms/step - loss: 8.7547e-04 - val_loss: 0.0012\n",
      "Epoch 65/100\n",
      "13/13 [==============================] - 0s 11ms/step - loss: 9.0351e-04 - val_loss: 0.0012\n",
      "Epoch 66/100\n",
      "13/13 [==============================] - 0s 11ms/step - loss: 8.7155e-04 - val_loss: 0.0015\n",
      "Epoch 67/100\n",
      "13/13 [==============================] - 0s 13ms/step - loss: 8.7751e-04 - val_loss: 0.0013\n",
      "Epoch 68/100\n",
      "13/13 [==============================] - 0s 11ms/step - loss: 8.5581e-04 - val_loss: 0.0013\n",
      "Epoch 69/100\n",
      "13/13 [==============================] - 0s 13ms/step - loss: 8.9001e-04 - val_loss: 0.0012\n",
      "Epoch 70/100\n",
      "13/13 [==============================] - 0s 11ms/step - loss: 9.1308e-04 - val_loss: 0.0012\n",
      "Epoch 71/100\n",
      "13/13 [==============================] - 0s 11ms/step - loss: 9.3145e-04 - val_loss: 0.0012\n",
      "Epoch 72/100\n",
      "13/13 [==============================] - 0s 12ms/step - loss: 8.6958e-04 - val_loss: 0.0012\n",
      "Epoch 73/100\n",
      "13/13 [==============================] - 0s 13ms/step - loss: 8.7842e-04 - val_loss: 0.0015\n",
      "Epoch 74/100\n",
      "13/13 [==============================] - 0s 10ms/step - loss: 9.1166e-04 - val_loss: 0.0014\n",
      "Epoch 75/100\n",
      "13/13 [==============================] - 0s 11ms/step - loss: 9.4006e-04 - val_loss: 0.0013\n",
      "Epoch 76/100\n",
      "13/13 [==============================] - 0s 11ms/step - loss: 9.3103e-04 - val_loss: 0.0024\n",
      "Epoch 77/100\n",
      "13/13 [==============================] - 0s 13ms/step - loss: 9.4432e-04 - val_loss: 0.0013\n",
      "Epoch 78/100\n",
      "13/13 [==============================] - 0s 11ms/step - loss: 9.1942e-04 - val_loss: 0.0012\n",
      "Epoch 79/100\n",
      "13/13 [==============================] - 0s 12ms/step - loss: 8.9638e-04 - val_loss: 0.0014\n",
      "Epoch 80/100\n",
      "13/13 [==============================] - 0s 11ms/step - loss: 8.9804e-04 - val_loss: 0.0012\n",
      "Epoch 81/100\n",
      "13/13 [==============================] - 0s 11ms/step - loss: 8.3921e-04 - val_loss: 0.0012\n",
      "Epoch 82/100\n",
      "13/13 [==============================] - 0s 11ms/step - loss: 8.3571e-04 - val_loss: 0.0012\n",
      "Epoch 83/100\n",
      "13/13 [==============================] - 0s 11ms/step - loss: 8.5337e-04 - val_loss: 0.0012\n",
      "Epoch 84/100\n",
      "13/13 [==============================] - 0s 12ms/step - loss: 8.5252e-04 - val_loss: 0.0012\n",
      "Epoch 85/100\n",
      "13/13 [==============================] - 0s 12ms/step - loss: 8.2595e-04 - val_loss: 0.0011\n",
      "Epoch 86/100\n",
      "13/13 [==============================] - 0s 11ms/step - loss: 8.3996e-04 - val_loss: 0.0014\n",
      "Epoch 87/100\n",
      "13/13 [==============================] - 0s 13ms/step - loss: 8.2427e-04 - val_loss: 0.0012\n",
      "Epoch 88/100\n",
      "13/13 [==============================] - 0s 14ms/step - loss: 8.8993e-04 - val_loss: 0.0013\n",
      "Epoch 89/100\n",
      "13/13 [==============================] - 0s 11ms/step - loss: 8.2124e-04 - val_loss: 0.0012\n",
      "Epoch 90/100\n",
      "13/13 [==============================] - 0s 11ms/step - loss: 8.4371e-04 - val_loss: 0.0012\n",
      "Epoch 91/100\n",
      "13/13 [==============================] - 0s 11ms/step - loss: 8.3328e-04 - val_loss: 0.0012\n",
      "Epoch 92/100\n",
      "13/13 [==============================] - 0s 12ms/step - loss: 8.4928e-04 - val_loss: 0.0011\n",
      "Epoch 93/100\n",
      "13/13 [==============================] - 0s 12ms/step - loss: 8.4757e-04 - val_loss: 0.0015\n",
      "Epoch 94/100\n",
      "13/13 [==============================] - 0s 12ms/step - loss: 8.5973e-04 - val_loss: 0.0011\n",
      "Epoch 95/100\n",
      "13/13 [==============================] - 0s 13ms/step - loss: 8.3670e-04 - val_loss: 0.0013\n",
      "Epoch 96/100\n",
      "13/13 [==============================] - 0s 14ms/step - loss: 8.4843e-04 - val_loss: 0.0012\n",
      "Epoch 97/100\n",
      "13/13 [==============================] - 0s 21ms/step - loss: 8.2625e-04 - val_loss: 0.0013\n",
      "Epoch 98/100\n",
      "13/13 [==============================] - 0s 13ms/step - loss: 8.2474e-04 - val_loss: 0.0012\n",
      "Epoch 99/100\n",
      "13/13 [==============================] - 0s 11ms/step - loss: 8.3156e-04 - val_loss: 0.0013\n",
      "Epoch 100/100\n",
      "13/13 [==============================] - 0s 12ms/step - loss: 9.5352e-04 - val_loss: 0.0011\n"
     ]
    },
    {
     "data": {
      "text/plain": [
       "<keras.src.callbacks.History at 0x1efa3977f50>"
      ]
     },
     "execution_count": 9,
     "metadata": {},
     "output_type": "execute_result"
    }
   ],
   "source": [
    "# Training the model\n",
    "model.fit(X_train, y_train, validation_data=(X_test, y_test), epochs=100, batch_size=64, verbose=1)"
   ]
  },
  {
   "cell_type": "code",
   "execution_count": 10,
   "id": "0c7e98a3",
   "metadata": {},
   "outputs": [
    {
     "name": "stdout",
     "output_type": "stream",
     "text": [
      "25/25 [==============================] - 1s 2ms/step\n",
      "14/14 [==============================] - 0s 3ms/step\n"
     ]
    }
   ],
   "source": [
    "# Predicting on training and testing data\n",
    "train_predict = model.predict(X_train)\n",
    "test_predict = model.predict(X_test)"
   ]
  },
  {
   "cell_type": "code",
   "execution_count": 11,
   "id": "216d943c",
   "metadata": {},
   "outputs": [],
   "source": [
    "# Inverse transforming predictions\n",
    "train_predict = scaler.inverse_transform(train_predict)\n",
    "y_train = scaler.inverse_transform([y_train])\n",
    "test_predict = scaler.inverse_transform(test_predict)\n",
    "y_test = scaler.inverse_transform([y_test])"
   ]
  },
  {
   "cell_type": "code",
   "execution_count": 12,
   "id": "fbcaf898",
   "metadata": {},
   "outputs": [],
   "source": [
    "# Calculating RMSE performance metrics\n",
    "train_rmse = np.sqrt(mean_squared_error(y_train[0], train_predict[:, 0]))\n",
    "test_rmse = np.sqrt(mean_squared_error(y_test[0], test_predict[:, 0]))"
   ]
  },
  {
   "cell_type": "code",
   "execution_count": 14,
   "id": "44d950cb",
   "metadata": {},
   "outputs": [
    {
     "data": {
      "image/png": "[encoded data removed]",
      "text/plain": [
       "<Figure size 1200x800 with 1 Axes>"
      ]
     },
     "metadata": {},
     "output_type": "display_data"
    }
   ],
   "source": [
    "# Plotting the results\n",
    "plt.figure(figsize=(12, 8))\n",
    "plt.title('Stock Price Analysis (Currency: INR)')\n",
    "\n",
    "plt.plot(df['Date'], df['Close'], color='blue', label='Closing Price')\n",
    "def format_y_ticks(x, pos):\n",
    "    thousands = int(x*10)\n",
    "    return f\"{thousands}K\"\n",
    "plt.gca().yaxis.set_major_formatter(FuncFormatter(format_y_ticks))\n",
    "plt.legend()\n",
    "plt.show()"
   ]
  },
  {
   "cell_type": "code",
   "execution_count": null,
   "id": "d4c00cbe",
   "metadata": {},
   "outputs": [],
   "source": []
  }
 ],
 "metadata": {
  "kernelspec": {
   "display_name": "Python 3 (ipykernel)",
   "language": "python",
   "name": "python3"
  },
  "language_info": {
   "codemirror_mode": {
    "name": "ipython",
    "version": 3
   },
   "file_extension": ".py",
   "mimetype": "text/x-python",
   "name": "python",
   "nbconvert_exporter": "python",
   "pygments_lexer": "ipython3",
   "version": "3.11.3"
  }
 },
 "nbformat": 4,
 "nbformat_minor": 5
}
